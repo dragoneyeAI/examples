{
 "cells": [
  {
   "cell_type": "code",
   "execution_count": 1,
   "metadata": {},
   "outputs": [],
   "source": [
    "from typing import Sequence, BinaryIO\n",
    "from dragoneye import Dragoneye, Image\n",
    "\n",
    "FILE_PATHS: Sequence[str] = []\n",
    "URLS: Sequence[str] = [\n",
    "    \"https://www.gap.com/webcontent/0056/180/218/cn56180218.jpg\",\n",
    "    \"https://www.gap.com/webcontent/0056/178/805/cn56178805.jpg\",\n",
    "    \"https://www.gap.com/webcontent/0056/211/254/cn56211254.jpg\",\n",
    "]\n",
    "\n",
    "\n",
    "def get_files() -> Sequence[BinaryIO]:\n",
    "    return [open(file_path, \"rb\") for file_path in FILE_PATHS]\n",
    "\n",
    "\n",
    "def get_files_images() -> Sequence[Image]:\n",
    "    return [Image(file_or_bytes=file) for file in get_files()]\n",
    "\n",
    "\n",
    "def get_bytes() -> Sequence[bytes]:\n",
    "    return [open(file_path, \"rb\").read() for file_path in FILE_PATHS]\n",
    "\n",
    "\n",
    "def get_bytes_images() -> Sequence[Image]:\n",
    "    return [Image(file_or_bytes=bytes) for bytes in get_bytes()]\n",
    "\n",
    "\n",
    "def get_urls() -> Sequence[str]:\n",
    "    return URLS\n",
    "\n",
    "\n",
    "def get_urls_images() -> Sequence[Image]:\n",
    "    return [Image(url=url) for url in get_urls()]\n",
    "\n",
    "\n",
    "di_client = Dragoneye(\"API_KEY\")"
   ]
  },
  {
   "cell_type": "code",
   "execution_count": 7,
   "metadata": {},
   "outputs": [
    {
     "name": "stdout",
     "output_type": "stream",
     "text": [
      "predictions=[ClassificationProductPrediction(category=TaxonPrediction(id=401630519, type=<TaxonType.CATEGORY: 'category'>, name='t-shirt', displayName='T-Shirt', score=0.6506306218629747, children=[]), traits=[ClassificationTraitRootPrediction(id=2202776242, name='color_main', displayName='Color Main', taxons=[TaxonPrediction(id=3211452418, type=<TaxonType.TRAIT: 'trait'>, name='gray', displayName='Gray', score=0.49988665796385295, children=[TaxonPrediction(id=695141528, type=<TaxonType.TRAIT: 'trait'>, name='light gray', displayName='Light Gray', score=0.28073933227369696, children=[]), TaxonPrediction(id=153468102, type=<TaxonType.TRAIT: 'trait'>, name='medium gray', displayName='Medium Gray', score=0.2871934338568879, children=[])]), TaxonPrediction(id=2488897976, type=<TaxonType.TRAIT: 'trait'>, name='beige', displayName='Beige', score=0.8021103893087929, children=[TaxonPrediction(id=2740142313, type=<TaxonType.TRAIT: 'trait'>, name='ivory', displayName='Ivory', score=0.2879874850957043, children=[]), TaxonPrediction(id=3039913436, type=<TaxonType.TRAIT: 'trait'>, name='antique white', displayName='Antique White', score=0.276147172741262, children=[])]), TaxonPrediction(id=3907447203, type=<TaxonType.TRAIT: 'trait'>, name='brown', displayName='Brown', score=0.2040502297965108, children=[]), TaxonPrediction(id=500238157, type=<TaxonType.TRAIT: 'trait'>, name='green', displayName='Green', score=0.4971535837652067, children=[])]), ClassificationTraitRootPrediction(id=2199192829, name='top_length', displayName='Top Length', taxons=[TaxonPrediction(id=700310187, type=<TaxonType.TRAIT: 'trait'>, name='regular', displayName='Regular', score=0.9852568060666198, children=[])]), ClassificationTraitRootPrediction(id=1480863431, name='patch', displayName='Patch', taxons=[TaxonPrediction(id=1437685101, type=<TaxonType.TRAIT: 'trait'>, name='patched', displayName='Patched', score=1.0, children=[TaxonPrediction(id=1122900428, type=<TaxonType.TRAIT: 'trait'>, name='logo', displayName='Logo', score=1.0, children=[]), TaxonPrediction(id=1532619510, type=<TaxonType.TRAIT: 'trait'>, name='graphic', displayName='Graphic', score=0.5340333219548012, children=[])])]), ClassificationTraitRootPrediction(id=4231099353, name='sleeve_length', displayName='Sleeve Length', taxons=[TaxonPrediction(id=1708286260, type=<TaxonType.TRAIT: 'trait'>, name='short_sleeve', displayName='Short Sleeve', score=0.5047412882304214, children=[])]), ClassificationTraitRootPrediction(id=3744454919, name='top_closure', displayName='Top Closure', taxons=[TaxonPrediction(id=442980723, type=<TaxonType.TRAIT: 'trait'>, name='button', displayName='Button', score=0.2820848860321619, children=[])]), ClassificationTraitRootPrediction(id=3516172983, name='top_fit', displayName='Top Fit', taxons=[TaxonPrediction(id=755954633, type=<TaxonType.TRAIT: 'trait'>, name='loose', displayName='Loose', score=1.0, children=[])]), ClassificationTraitRootPrediction(id=2326231656, name='pattern', displayName='Pattern', taxons=[TaxonPrediction(id=1521249652, type=<TaxonType.TRAIT: 'trait'>, name='graphic', displayName='Graphic', score=1.0, children=[])]), ClassificationTraitRootPrediction(id=1930479351, name='neckline', displayName='Neckline', taxons=[TaxonPrediction(id=482266030, type=<TaxonType.TRAIT: 'trait'>, name='crew_neck', displayName='Crew Neck', score=0.9339505738389032, children=[])]), ClassificationTraitRootPrediction(id=2117346892, name='top_hem_style', displayName='Top Hem Style', taxons=[TaxonPrediction(id=3212337872, type=<TaxonType.TRAIT: 'trait'>, name='curved', displayName='Curved', score=1.0, children=[])]), ClassificationTraitRootPrediction(id=938674455, name='embellishment', displayName='Embellishment', taxons=[TaxonPrediction(id=763972867, type=<TaxonType.TRAIT: 'trait'>, name='embroidery', displayName='Embroidery', score=0.2211849078979049, children=[])]), ClassificationTraitRootPrediction(id=4119114950, name='material', displayName='Material', taxons=[TaxonPrediction(id=976626669, type=<TaxonType.TRAIT: 'trait'>, name='cotton', displayName='Cotton', score=1.0, children=[])])])]\n"
     ]
    }
   ],
   "source": [
    "print(\n",
    "    di_client.classification.predict_product(\n",
    "        images=get_files_images(), model_name=\"dragoneye/fashion-product\"\n",
    "    )\n",
    ")\n",
    "print(\n",
    "    di_client.classification.predict_product(\n",
    "        images=get_bytes_images(), model_name=\"dragoneye/fashion-product\"\n",
    "    )\n",
    ")\n",
    "print(\n",
    "    di_client.classification.predict_product(\n",
    "        images=get_urls_images(), model_name=\"dragoneye/fashion-product\"\n",
    "    )\n",
    ")"
   ]
  }
 ],
 "metadata": {
  "kernelspec": {
   "display_name": "jupy",
   "language": "python",
   "name": "python3"
  },
  "language_info": {
   "codemirror_mode": {
    "name": "ipython",
    "version": 3
   },
   "file_extension": ".py",
   "mimetype": "text/x-python",
   "name": "python",
   "nbconvert_exporter": "python",
   "pygments_lexer": "ipython3",
   "version": "3.11.9"
  }
 },
 "nbformat": 4,
 "nbformat_minor": 2
}
